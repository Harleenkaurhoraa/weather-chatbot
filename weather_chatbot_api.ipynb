{
 "cells": [
  {
   "cell_type": "code",
   "execution_count": null,
   "metadata": {},
   "source": [
    "import os\n",
    "from typing import TypedDict, Annotated, List, Optional, Dict, Any\n",
    "from dotenv import load_dotenv\n",
    "import requests\n",
    "\n",
    "from langchain.memory import ConversationWindowBufferMemory\n",
    "from langchain_community.document_loaders import PyPDFLoader\n",
    "from langchain.text_splitter import RecursiveCharacterTextSplitter\n",
    "from langchain_community.embeddings import OllamaEmbeddings\n",
    "from langchain_community.vectorstores import FAISS\n",
    "from langchain.prompts import PromptTemplate\n",
    "from langchain.chains import RetrievalQA\n",
    "from langchain.schema import AIMessage, HumanMessage\n",
    "from langgraph.graph import StateGraph, START, END\n",
    "from langgraph.graph import add_messages"
   ]
  },
  {
   "cell_type": "code",
   "execution_count": null,
   "metadata": {},
   "source": [
    "# Load environment variables\n",
    "load_dotenv()\n",
    "CYFUTURE_API_KEY = os.getenv(\"CYFUTURE_API_KEY\")"
   ]
  },
  {
   "cell_type": "code",
   "execution_count": null,
   "metadata": {},
   "source": [
    "# Define state with window buffer memory\n",
    "class State(TypedDict):\n",
    "    messages: Annotated[list, add_messages]\n",
    "    intent: str\n",
    "    city: str\n",
    "    memory: ConversationWindowBufferMemory\n",
    "\n",
    "def initialize_memory():\n",
    "    return ConversationWindowBufferMemory(\n",
    "        k=5,  # Remember last 5 interactions\n",
    "        memory_key=\"chat_history\",\n",
    "        return_messages=True\n",
    "    )"
   ]
  },
  {
   "cell_type": "code",
   "execution_count": null,
   "metadata": {},
   "source": [
    "def ask_ai(question: str) -> str:\n",
    "    \"\"\"Simple function to ask CyfutureAI a question\"\"\"\n",
    "    try:\n",
    "        response = requests.post(\n",
    "            \"https://api.cyfuture.ai/v1/chat/completions\",\n",
    "            headers={\"Authorization\": f\"Bearer {CYFUTURE_API_KEY}\"},\n",
    "            json={\n",
    "                \"model\": \"llama8\",\n",
    "                \"messages\": [{\"role\": \"user\", \"content\": question}]\n",
    "            }\n",
    "        )\n",
    "        return response.json()[\"choices\"][0][\"message\"][\"content\"]\n",
    "    except:\n",
    "        return \"Sorry, I couldn't process that request.\""
   ]
  },
  {
   "cell_type": "code",
   "execution_count": null,
   "metadata": {},
   "source": [
    "def classify_intent(state: Dict[str, Any]) -> Dict[str, Any]:\n",
    "    \"\"\"Determine if the user is asking for weather data or general information\"\"\"\n",
    "    last_message = state[\"messages\"][-1].content\n",
    "\n",
    "    prompt = f\"\"\"\n",
    "    Determine the intent of the following message:\n",
    "    \\\"{last_message}\\\"\n",
    "\n",
    "    If the message is asking about current weather, weather forecast, or weather conditions for a specific location, respond with \"weather_api\".\n",
    "    If the message is asking about general weather information, climate patterns, or safety measures, respond with \"rag\".\n",
    "\n",
    "    Just respond with either \"weather_api\" or \"rag\".\n",
    "    \"\"\"\n",
    "\n",
    "    intent = ask_ai(prompt).strip().lower()\n",
    "\n",
    "    # Initialize city with a default value\n",
    "    city = \"unknown\"\n",
    "\n",
    "    if \"weather_api\" in intent:\n",
    "        city_prompt = f\"\"\"\n",
    "        Extract the city name from this message: \\\"{last_message}\\\"\n",
    "        If no city is mentioned, respond with \"unknown\".\n",
    "        Just provide the city name or \"unknown\", nothing else.\n",
    "        \"\"\"\n",
    "        city_response = ask_ai(city_prompt).strip()\n",
    "        if city_response.lower() != \"unknown\":\n",
    "            city = city_response\n",
    "\n",
    "    return {\"intent\": intent, \"city\": city}"
   ]
  }
 ],
 "metadata": {
  "kernelspec": {
   "display_name": "Python 3",
   "language": "python",
   "name": "python3"
  },
  "language_info": {
   "codemirror_mode": {
    "name": "ipython",
    "version": 3
   },
   "file_extension": ".py",
   "mimetype": "text/x-python",
   "name": "python",
   "nbconvert_exporter": "python",
   "pygments_lexer": "ipython3",
   "version": "3.8.10"
  }
 },
 "nbformat": 4,
 "nbformat_minor": 4
}